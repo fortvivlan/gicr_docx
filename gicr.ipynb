{
 "cells": [
  {
   "cell_type": "code",
   "execution_count": 1,
   "metadata": {},
   "outputs": [],
   "source": [
    "import pandas as pd\n",
    "import os\n",
    "from docx import Document"
   ]
  },
  {
   "cell_type": "code",
   "execution_count": 3,
   "metadata": {},
   "outputs": [],
   "source": [
    "def docwrite(data, name):\n",
    "    doc = Document()\n",
    "    for i, row in data.iterrows():\n",
    "        if str(row['left']) != 'nan':\n",
    "            p = doc.add_paragraph(f\"{i}\\t{row['left']}\")\n",
    "        else:\n",
    "            p = doc.add_paragraph(f'{i}\\t')\n",
    "        p.add_run(f\" {row['result']} \").bold = True\n",
    "        if str(row['right']) != 'nan':\n",
    "            p.add_run(str(row['right']))\n",
    "        doc.add_paragraph(f\"Дата создания текста: {row['year']}\")\n",
    "        doc.add_paragraph(f\"Год рождения автора: {row['birth']}\")\n",
    "        doc.add_paragraph(f\"Место жительства автора: {row['loc']}\")\n",
    "        doc.add_paragraph(' ')\n",
    "    doc.save(f'docs/{name}.docx')"
   ]
  },
  {
   "cell_type": "code",
   "execution_count": 4,
   "metadata": {},
   "outputs": [],
   "source": [
    "files = os.listdir('data')\n",
    "\n",
    "for name in files:\n",
    "    if name.endswith('.xlsx'):\n",
    "        data = pd.read_excel(f'data/{name}')\n",
    "        data = data.drop_duplicates(subset='left', keep='first')\n",
    "        docwrite(data, name[:-5])"
   ]
  }
 ],
 "metadata": {
  "interpreter": {
   "hash": "6eb9e1cf2af2cf6251f1c932a803c6b2f25b1e2cfa2de873853bae064510a498"
  },
  "kernelspec": {
   "display_name": "Python 3.8.10 64-bit",
   "language": "python",
   "name": "python3"
  },
  "language_info": {
   "codemirror_mode": {
    "name": "ipython",
    "version": 3
   },
   "file_extension": ".py",
   "mimetype": "text/x-python",
   "name": "python",
   "nbconvert_exporter": "python",
   "pygments_lexer": "ipython3",
   "version": "3.8.10"
  },
  "orig_nbformat": 4
 },
 "nbformat": 4,
 "nbformat_minor": 2
}
